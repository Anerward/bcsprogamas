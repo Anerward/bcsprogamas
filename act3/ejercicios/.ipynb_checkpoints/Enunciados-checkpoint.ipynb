{
 "cells": [
  {
   "cell_type": "markdown",
   "metadata": {},
   "source": [
    "# Tema 03: Control de flujo (Enunciados)\n",
    "*Nota: Estos ejercicios son optativos para hacer al final de la unidad y están pensados para apoyar tu aprendizaje*."
   ]
  },
  {
   "cell_type": "markdown",
   "metadata": {},
   "source": [
    "**1) Realiza un programa que lea dos números por teclado y permita elegir entre 3 opciones en un menú:** \n",
    "* Mostrar una suma de los dos números\n",
    "* Mostrar una resta de los dos números (el primero menos el segundo)\n",
    "* Mostrar una multiplicación de los dos números\n",
    "* En caso de no introducir una opción válida, el programa informará de que no es correcta."
   ]
  },
  {
   "cell_type": "code",
   "execution_count": 1,
   "metadata": {},
   "outputs": [
    {
     "name": "stdout",
     "output_type": "stream",
     "text": [
      "ingrese un primer numero: 2\n",
      "ingrese un segundo numero: 3\n",
      "elige que deseas hacer con estos numeros \n",
      " 1 para sumarlos \n",
      " 2 para restarlos \n",
      " 3 para multiplicarlos \n",
      " 4 para salir del sistema\n",
      "1\n",
      "5.0\n",
      "¿deseas hacer algo mas con ellos?2\n",
      "-1.0\n",
      "¿deseas hacer algo mas con ellos?3\n",
      "6.0\n",
      "¿deseas hacer algo mas con ellos?4\n",
      "Adios\n"
     ]
    }
   ],
   "source": [
    "# Completa el ejercicio aquí\n",
    "a = float(input(\"ingrese un primer numero: \"))\n",
    "b = float(input(\"ingrese un segundo numero: \"))\n",
    "print(\"elige que deseas hacer con estos numeros \\n 1 para sumarlos \\n 2 para restarlos \\n 3 para multiplicarlos \\n 4 para salir del sistema\")\n",
    "c = int(input())\n",
    "while (c != 4):\n",
    "    if c == 1:\n",
    "        print( a + b )\n",
    "    if c == 2:\n",
    "        print( a - b )\n",
    "    if c == 3:\n",
    "        print( a * b )\n",
    "    c = int(input(\"¿deseas hacer algo mas con ellos?\"))\n",
    "        \n",
    "else:\n",
    "    print(\"Adios\")\n",
    "\n",
    "#podria hacerlo preguntarlo por while"
   ]
  },
  {
   "cell_type": "markdown",
   "metadata": {},
   "source": [
    "**2) Realiza un programa que lea un número impar por teclado. Si el usuario no introduce un número impar, debe repetise el proceso hasta que lo introduzca correctamente.**"
   ]
  },
  {
   "cell_type": "code",
   "execution_count": 5,
   "metadata": {},
   "outputs": [
    {
     "name": "stdout",
     "output_type": "stream",
     "text": [
      "introduce un numero impar1\n",
      "a noes par, intetalo otra vez\n",
      "introduce un numero impar3\n",
      "a noes par, intetalo otra vez\n",
      "introduce un numero impar4\n",
      "a es par, gracias\n"
     ]
    }
   ],
   "source": [
    "# Completa el ejercicio aquí\n",
    "b = 0\n",
    "while b == 0:\n",
    "    a = int(input(\"introduce un numero impar\"))\n",
    "    if (a%2)== 1:\n",
    "        print(\"a noes par, intetalo otra vez\")\n",
    "    else:\n",
    "        print(\"a es par, gracias\")\n",
    "        break\n",
    "#amo break"
   ]
  },
  {
   "cell_type": "markdown",
   "metadata": {},
   "source": [
    "**3) Realiza un programa que sume todos los números enteros pares desde el 0 hasta el 100:**\n",
    "\n",
    "*Sugerencia: Puedes utilizar la funciones sum() y range() para hacerlo más fácil. El tercer parámetro en la función range(inicio, fin, salto) indica un salto de números, pruébalo.*"
   ]
  },
  {
   "cell_type": "code",
   "execution_count": 10,
   "metadata": {},
   "outputs": [
    {
     "name": "stdout",
     "output_type": "stream",
     "text": [
      "5050\n"
     ]
    }
   ],
   "source": [
    "# Completa el ejercicio aquí\n",
    "# me parece un desperdicio de procesador hacelos asi, sabiendo que puedo usar n(n+1)/2\n",
    "a = 0\n",
    "for i in range(101):\n",
    "    a = i+a\n",
    "\n",
    "print(a)\n",
    "#se podia usar sum() con range()"
   ]
  },
  {
   "cell_type": "markdown",
   "metadata": {},
   "source": [
    "**4) Realiza un programa que pida al usuario cuantos números quiere introducir. Luego lee todos los números y realiza una media aritmética:**\n"
   ]
  },
  {
   "cell_type": "code",
   "execution_count": 14,
   "metadata": {},
   "outputs": [
    {
     "name": "stdout",
     "output_type": "stream",
     "text": [
      "cuantos numeros quieres introducir: 2\n",
      "introduce el 1° numero10\n",
      "introduce el 2° numero20\n",
      "la medeia es:\n",
      "15.0\n"
     ]
    }
   ],
   "source": [
    "# Completa el ejercicio aquí\n",
    "a = int(input(\"cuantos numeros quieres introducir: \"))\n",
    "d = 0\n",
    "for i in range(a):\n",
    "    s = float(input(\"introduce el \"+str(i+1)+\"° numero\" ))\n",
    "    d = d+s\n",
    "media = d/a\n",
    "print(\"la medeia es:\")\n",
    "print(media)"
   ]
  },
  {
   "cell_type": "markdown",
   "metadata": {},
   "source": [
    "**5) Realiza un programa que pida al usuario un número entero del 0 al 9, y que mientras el número no sea correcto se repita el proceso. Luego debe comprobar si el número se encuentra en la lista de números y notificarlo:**\n",
    "\n",
    "*Consejo: La sintaxis \"valor in lista\" permite comprobar fácilmente si un valor se encuentra en una lista (devuelve True o False)*"
   ]
  },
  {
   "cell_type": "code",
   "execution_count": 2,
   "metadata": {},
   "outputs": [
    {
     "name": "stdout",
     "output_type": "stream",
     "text": [
      "escribe un nuemro del 1 al 9: 9\n",
      "ese numero no esta del 0 al 9\n"
     ]
    }
   ],
   "source": [
    "# Completa el ejercicio aquí\n",
    "numeros = [1, 3, 6, 9]\n",
    "a = int(input(\"escribe un nuemro del 1 al 9: \"))\n",
    "while ((a**2)**(1/2)) < 9:\n",
    "    if a in numeros:\n",
    "        print(\"el numero \",a,\" se ecuentra en la lista\")\n",
    "    else:\n",
    "        print(\"el numero \",a,\" no se ecuentra en la lista\")\n",
    "    break\n",
    "else:\n",
    "    print(\"ese numero no esta del 0 al 9\")\n",
    "    \n",
    "#no era asi pero aja"
   ]
  },
  {
   "cell_type": "markdown",
   "metadata": {},
   "source": [
    "**6) Utilizando la función range() y la conversión a listas genera las siguientes listas dinámicamente:**\n",
    "* Todos los números del 0 al 10 [0, 1, 2, ..., 10]\n",
    "* Todos los números del -10 al 0 [-10, -9, -8, ..., 0]\n",
    "* Todos los números pares del 0 al 20 [0, 2, 4, ..., 20]\n",
    "* Todos los números impares entre -20 y 0 [-19, -17, -15, ..., -1]\n",
    "* Todos los números múltiples de 5 del 0 al 50 [0, 5, 10, ..., 50]\n",
    "\n",
    "*Pista: Utiliza el tercer parámetro de la función range(inicio, fin, salto).*"
   ]
  },
  {
   "cell_type": "code",
   "execution_count": 3,
   "metadata": {},
   "outputs": [
    {
     "name": "stdout",
     "output_type": "stream",
     "text": [
      "[0, 1, 2, 3, 4, 5, 6, 7, 8, 9, 10]\n",
      "[-10, -9, -8, -7, -6, -5, -4, -3, -2, -1, 0]\n",
      "[0, 2, 4, 6, 8, 10, 12, 14, 16, 18, 20]\n",
      "[-19, -17, -15, -13, -11, -9, -7, -5, -3, -1]\n",
      "[0, 5, 10, 15, 20, 25, 30, 35, 40, 45, 50]\n"
     ]
    }
   ],
   "source": [
    "# Completa el ejercicio\n",
    "print( list( range( 0, 11 ) ) )\n",
    "print( list( range( -10, 1 ) ) )\n",
    "print( list( range( 0, 21, 2 ) ) )\n",
    "print( list( range( -19, 0, 2 ) ) )\n",
    "print( list( range( 0, 51, 5 ) ) )"
   ]
  },
  {
   "cell_type": "markdown",
   "metadata": {},
   "source": [
    "**7) Dadas dos listas, debes generar una tercera con todos los elementos que se repitan en ellas, pero no debe repetise ningún elemento en la nueva lista:**"
   ]
  },
  {
   "cell_type": "code",
   "execution_count": 4,
   "metadata": {},
   "outputs": [
    {
     "name": "stdout",
     "output_type": "stream",
     "text": [
      "['h', 'o', 'l', 'a', ' ', 'u', 'n']\n"
     ]
    }
   ],
   "source": [
    "# Completa el ejercicio aquí\n",
    "lista_1 = [\"h\",'o','l','a',' ', 'm','u','n','d','o']\n",
    "lista_2 = [\"h\",'o','l','a',' ', 'l','u','n','a']\n",
    "\n",
    "lista_3 = []\n",
    "\n",
    "for letra in lista_1:\n",
    "    if letra in lista_2 and letra not in lista_3:\n",
    "        lista_3.append(letra)\n",
    "\n",
    "print(lista_3)"
   ]
  },
  {
   "cell_type": "code",
   "execution_count": null,
   "metadata": {},
   "outputs": [],
   "source": []
  }
 ],
 "metadata": {
  "anaconda-cloud": {},
  "kernelspec": {
   "display_name": "Python 3 (ipykernel)",
   "language": "python",
   "name": "python3"
  },
  "language_info": {
   "codemirror_mode": {
    "name": "ipython",
    "version": 3
   },
   "file_extension": ".py",
   "mimetype": "text/x-python",
   "name": "python",
   "nbconvert_exporter": "python",
   "pygments_lexer": "ipython3",
   "version": "3.9.7"
  }
 },
 "nbformat": 4,
 "nbformat_minor": 1
}

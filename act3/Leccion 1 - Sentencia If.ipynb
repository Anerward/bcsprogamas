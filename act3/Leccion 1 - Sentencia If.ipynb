{
 "cells": [
  {
   "cell_type": "markdown",
   "metadata": {
    "collapsed": true
   },
   "source": [
    "# sentencias para saber si esta pasando algo y que hacer"
   ]
  },
  {
   "cell_type": "code",
   "execution_count": 1,
   "metadata": {},
   "outputs": [
    {
     "name": "stdout",
     "output_type": "stream",
     "text": [
      "este es una sentecia if\n"
     ]
    }
   ],
   "source": [
    "#condicional if, que nos sirve para saber si una inctruccion se va a ejecutar\n",
    "if True:\n",
    "    print(\"este es una sentecia if\")"
   ]
  },
  {
   "cell_type": "code",
   "execution_count": 6,
   "metadata": {},
   "outputs": [
    {
     "name": "stdout",
     "output_type": "stream",
     "text": [
      "b es menor que b\n"
     ]
    }
   ],
   "source": [
    "#podemos pasar una snetencia de diferentes tipo, como lo es el tipo logico\n",
    "a = 10\n",
    "b = 4\n",
    "if b<a: \n",
    "    print(\"b es menor que b\")"
   ]
  },
  {
   "cell_type": "code",
   "execution_count": 7,
   "metadata": {},
   "outputs": [
    {
     "name": "stdout",
     "output_type": "stream",
     "text": [
      "a no es menor que b\n"
     ]
    }
   ],
   "source": [
    "# sabemos quepodemos usar un if not\n",
    "if not a<b:\n",
    "    print(\"a no es menor que b\")"
   ]
  },
  {
   "cell_type": "code",
   "execution_count": 8,
   "metadata": {},
   "outputs": [
    {
     "name": "stdout",
     "output_type": "stream",
     "text": [
      "a es mayor que b\n"
     ]
    }
   ],
   "source": [
    "# podemos hacer varios codicionales\n",
    "if b>a:\n",
    "    print(\"b es mayor que b\")\n",
    "elif a>b:\n",
    "    print(\"a es mayor que b\")"
   ]
  },
  {
   "cell_type": "code",
   "execution_count": 9,
   "metadata": {},
   "outputs": [],
   "source": [
    "#no se para que usaria un bloque vacio pero se puede poner \n",
    "if True:\n",
    "    pass"
   ]
  },
  {
   "cell_type": "code",
   "execution_count": null,
   "metadata": {},
   "outputs": [],
   "source": []
  }
 ],
 "metadata": {
  "kernelspec": {
   "display_name": "Python 3 (ipykernel)",
   "language": "python",
   "name": "python3"
  },
  "language_info": {
   "codemirror_mode": {
    "name": "ipython",
    "version": 3
   },
   "file_extension": ".py",
   "mimetype": "text/x-python",
   "name": "python",
   "nbconvert_exporter": "python",
   "pygments_lexer": "ipython3",
   "version": "3.9.7"
  }
 },
 "nbformat": 4,
 "nbformat_minor": 1
}

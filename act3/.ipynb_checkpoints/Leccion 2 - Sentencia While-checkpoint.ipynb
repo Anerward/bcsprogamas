{
 "cells": [
  {
   "cell_type": "markdown",
   "metadata": {
    "collapsed": true
   },
   "source": [
    "# SENTENCIA QUE SE USA PARA HACER UN BUCLE\n"
   ]
  },
  {
   "cell_type": "code",
   "execution_count": null,
   "metadata": {},
   "outputs": [],
   "source": [
    "#Recordar que hay que apagar el bucle\n",
    "# no hacer bucles tontos con false que claramente no haran nada"
   ]
  },
  {
   "cell_type": "code",
   "execution_count": 6,
   "metadata": {},
   "outputs": [
    {
     "name": "stdout",
     "output_type": "stream",
     "text": [
      "el valor de a es: 1\n",
      "el valor de a es: 2\n",
      "ya se completo el bucle\n"
     ]
    }
   ],
   "source": [
    "a = 0\n",
    "while a < 2:\n",
    "    a += 1\n",
    "    print(\"el valor de a es:\", a)\n",
    "\n",
    "else: \n",
    "    print(\"ya se completo el bucle\")"
   ]
  },
  {
   "cell_type": "code",
   "execution_count": 8,
   "metadata": {},
   "outputs": [
    {
     "name": "stdout",
     "output_type": "stream",
     "text": [
      "el valor de a es: 1\n",
      "el valor de a es: 2\n",
      "el valor de a es: 3\n",
      "el valor de a es: 4\n",
      "el valor de a es: 5\n",
      "asi se puede romper un bucle, fue roto en  5\n"
     ]
    }
   ],
   "source": [
    "#porfavor no dejar la la computadora colgada\n",
    "a = 0\n",
    "while a < 6:\n",
    "    a += 1\n",
    "    print(\"el valor de a es:\", a)\n",
    "    if a == 5:\n",
    "        print(\"asi se puede romper un bucle, fue roto en \", a)\n",
    "        break\n",
    "    \n",
    "\n",
    "else: \n",
    "    print(\"ya se completo el bucle\")"
   ]
  },
  {
   "cell_type": "code",
   "execution_count": 10,
   "metadata": {},
   "outputs": [
    {
     "name": "stdout",
     "output_type": "stream",
     "text": [
      "el valor de a es: 1\n",
      "el valor de a es: 2\n",
      "el valor de a es: 3\n",
      "el valor de a es: 4\n",
      "asi se puede romper un bucle, fue roto en  5\n",
      "el valor de a es: 6\n",
      "ya se completo el bucle\n"
     ]
    }
   ],
   "source": [
    "a = 0\n",
    "while a < 6:\n",
    "    a += 1\n",
    "    if a == 5:\n",
    "        print(\"asi se puede romper un bucle, fue roto en \", a)\n",
    "        continue\n",
    "    print(\"el valor de a es:\", a)\n",
    "    \n",
    "\n",
    "else: \n",
    "    print(\"ya se completo el bucle\")"
   ]
  },
  {
   "cell_type": "code",
   "execution_count": 16,
   "metadata": {},
   "outputs": [
    {
     "name": "stdout",
     "output_type": "stream",
     "text": [
      "esto es una interaccion con el usuario\n",
      "¿que deseas hacer?\n",
      "1 si queres saludar \n",
      "2 sumar numeros \n",
      "3 salir\n",
      "1\n",
      "Hola, espero que te lo estés pasando bien\n",
      "¿que deseas hacer?\n",
      "1 si queres saludar \n",
      "2 sumar numeros \n",
      "3 salir\n",
      "2\n",
      "Introduce el primer número: 7\n",
      "Introduce el segundo número: 8\n",
      "El resultado de la suma es:  15.0\n",
      "¿que deseas hacer?\n",
      "1 si queres saludar \n",
      "2 sumar numeros \n",
      "3 salir\n",
      "3\n",
      "¡Hasta luego! Ha sido un placer ayudarte\n"
     ]
    }
   ],
   "source": [
    "print(\"esto es una interaccion con el usuario\")\n",
    "while True:\n",
    "    print(\"¿que deseas hacer?\\n1 si queres saludar \\n2 sumar numeros \\n3 salir\")\n",
    "    opcion = input()\n",
    "    if opcion == '1':\n",
    "        print(\"Hola, espero que te lo estés pasando bien\")\n",
    "    elif opcion == '2':\n",
    "        n1 = float(input(\"Introduce el primer número: \"))\n",
    "        n2 = float(input(\"Introduce el segundo número: \"))\n",
    "        print(\"El resultado de la suma es: \",n1+n2)\n",
    "    elif opcion =='3':\n",
    "        print(\"¡Hasta luego! Ha sido un placer ayudarte\")\n",
    "        break\n",
    "    else:\n",
    "        print(\"Comando desconocido, vuelve a intentarlo\")\n",
    "    "
   ]
  },
  {
   "cell_type": "code",
   "execution_count": null,
   "metadata": {},
   "outputs": [],
   "source": []
  }
 ],
 "metadata": {
  "kernelspec": {
   "display_name": "Python 3 (ipykernel)",
   "language": "python",
   "name": "python3"
  },
  "language_info": {
   "codemirror_mode": {
    "name": "ipython",
    "version": 3
   },
   "file_extension": ".py",
   "mimetype": "text/x-python",
   "name": "python",
   "nbconvert_exporter": "python",
   "pygments_lexer": "ipython3",
   "version": "3.9.7"
  }
 },
 "nbformat": 4,
 "nbformat_minor": 1
}

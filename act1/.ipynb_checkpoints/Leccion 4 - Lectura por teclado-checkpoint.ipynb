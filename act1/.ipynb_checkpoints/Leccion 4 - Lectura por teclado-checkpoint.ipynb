{
 "cells": [
  {
   "cell_type": "markdown",
   "metadata": {
    "collapsed": true
   },
   "source": [
    "# lectura por el teclado"
   ]
  },
  {
   "cell_type": "code",
   "execution_count": 3,
   "metadata": {},
   "outputs": [
    {
     "name": "stdout",
     "output_type": "stream",
     "text": [
      "un numero 73\n",
      "un numero decimal 378494.98373\n",
      "claramente es una cadena :hola belleza, que bueno verte hoy\n"
     ]
    }
   ],
   "source": [
    "#podemos usar input\n",
    "a = int(input(\"un numero \"))\n",
    "b = float(input(\"un numero decimal \"))\n",
    "c = input(\"claramente es una cadena :\") "
   ]
  },
  {
   "cell_type": "code",
   "execution_count": 4,
   "metadata": {},
   "outputs": [],
   "source": [
    "#podemos cambiar de unos a otros usandos ccon str() int() flot()"
   ]
  },
  {
   "cell_type": "code",
   "execution_count": null,
   "metadata": {},
   "outputs": [],
   "source": [
    "#recuerda que fuera de jupyter hay que usar print() para ver los valores arrojados, este tipo de cosas es igual que \n",
    "#el metodo main que en un principio parece tonto pero cuando se programa verdaderamente son de las cosas importantes"
   ]
  }
 ],
 "metadata": {
  "anaconda-cloud": {},
  "kernelspec": {
   "display_name": "Python 3 (ipykernel)",
   "language": "python",
   "name": "python3"
  },
  "language_info": {
   "codemirror_mode": {
    "name": "ipython",
    "version": 3
   },
   "file_extension": ".py",
   "mimetype": "text/x-python",
   "name": "python",
   "nbconvert_exporter": "python",
   "pygments_lexer": "ipython3",
   "version": "3.9.7"
  }
 },
 "nbformat": 4,
 "nbformat_minor": 1
}
